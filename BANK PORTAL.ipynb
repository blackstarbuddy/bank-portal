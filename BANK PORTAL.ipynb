{
 "cells": [
  {
   "cell_type": "code",
   "execution_count": 19,
   "metadata": {},
   "outputs": [],
   "source": [
    "data = {'1001':{'name':'Mohit','email':'mohit@gmail.com','password':'trial678','city':'Jaipur','balance':69000},\n",
    "       '1002':{'name':'Anurag','email':'anurag@gmail.com','password':'test123','city':'Jaipur','balance':69000},\n",
    "       '1003':{'name':'Manish','email':'manish@gmail.com','password':'checking345','city':'Jaipur','balance':69000},\n",
    "       '1004':{'name':'Astha','email':'astha@gmail.com','password':'testing123','city':'Jaipur','balance':69000}}"
   ]
  },
  {
   "cell_type": "markdown",
   "metadata": {},
   "source": [
    "## LOGIN SIGNUP "
   ]
  },
  {
   "cell_type": "code",
   "execution_count": 11,
   "metadata": {},
   "outputs": [],
   "source": [
    "def main():\n",
    "    import sys\n",
    "    import time\n",
    "    print('*'*127)\n",
    "    print()\n",
    "    print('Welcome to bank portal'.center(120))\n",
    "    print()\n",
    "    print('*'*127)\n",
    "    print()\n",
    "    time.sleep(1)\n",
    "    print('..')\n",
    "    time.sleep(1)\n",
    "    print('..')\n",
    "    time.sleep(1)\n",
    "    print('..')\n",
    "    time.sleep(1)\n",
    "    print('1. Login\\n2. Sign Up\\n3. Exit')\n",
    "    print()\n",
    "    ip = input('Enter your choice')\n",
    "    if ip == '1':\n",
    "        login()\n",
    "    elif ip == '2':\n",
    "        signup()\n",
    "    elif ip =='3':\n",
    "        exit()\n",
    "        print(\"successfully exited\")\n",
    "    else : \n",
    "        print('Enter wrong choice')\n"
   ]
  },
  {
   "cell_type": "markdown",
   "metadata": {},
   "source": [
    "## LOGIN"
   ]
  },
  {
   "cell_type": "code",
   "execution_count": 12,
   "metadata": {},
   "outputs": [],
   "source": [
    "def login():\n",
    "    import getpass\n",
    "    import time\n",
    "    print('*'*127)\n",
    "    print()\n",
    "    print('Welcome to login section'.center(120))\n",
    "    print()\n",
    "    print('*'*127)\n",
    "    print()\n",
    "   \n",
    "    usr= input('Enter your username')\n",
    "    if usr in data.keys():\n",
    "        print('Loading...')\n",
    "        time.sleep(1)\n",
    "        print('..')\n",
    "        time.sleep(1)\n",
    "        print('..')\n",
    "        time.sleep(1)\n",
    "        print('..')\n",
    "        time.sleep(1)\n",
    "        pas = getpass.getpass('Enter your password')\n",
    "        print('Processing...')\n",
    "        time.sleep(1)\n",
    "        print('..')\n",
    "        time.sleep(1)\n",
    "        print('..')\n",
    "        time.sleep(1)\n",
    "        print('..')\n",
    "        time.sleep(1)\n",
    "        if pas == data[usr]['password']:\n",
    "            print()\n",
    "            print('Loading...')\n",
    "            time.sleep(2)\n",
    "            print()\n",
    "            print('*'*127)\n",
    "            print()\n",
    "            print('Login Successful'.center(120))\n",
    "            print()\n",
    "            print('*'*127)\n",
    "            print()\n",
    "            print('1. Credit\\n2.Debit\\n3.Balance\\n4.Log Out')\n",
    "            choice = input('Enter Choice')\n",
    "            if choice == '1':\n",
    "                credit(usr)\n",
    "            elif choice == '2':\n",
    "                debit(usr)\n",
    "            elif choice == '3':\n",
    "                chkbalance(usr)\n",
    "            elif choice == '4':\n",
    "                exit()\n",
    "                print(\"successfully exited\")\n",
    "            else:\n",
    "                print('Wrong Choice')\n",
    "            \n",
    "        else:\n",
    "            print('Your password does not match')\n",
    "            login()\n",
    "    else:\n",
    "        print('Your account does not found')\n",
    "        print('Create your account')\n",
    "        print('Redirecting')\n",
    "        time.sleep(2)\n",
    "        signup()\n",
    "        "
   ]
  },
  {
   "cell_type": "markdown",
   "metadata": {},
   "source": [
    "##  SIGNUP"
   ]
  },
  {
   "cell_type": "code",
   "execution_count": 13,
   "metadata": {},
   "outputs": [],
   "source": [
    "def signup():\n",
    "    import getpass\n",
    "    import random\n",
    "    import string\n",
    "    import smtplib\n",
    "    import time\n",
    "    \n",
    "    name = input('Enter name')\n",
    "    email = input('Enter email id')\n",
    "    passw = getpass.getpass('Enter password') \n",
    "    d = string.digits + string.ascii_letters\n",
    "    o = \"\"\n",
    "    \n",
    "    for i in range(6):\n",
    "        o = o + random.choice(d)\n",
    "       \n",
    "    conn = smtplib.SMTP(\"smtp.gmail.com\" , 587)\n",
    "    conn.starttls()\n",
    "    gmail = \"2018pcecsmohit92@poornima.org\"\n",
    "    pas = getpass.getpass()\n",
    "    conn.login(gmail,pas)\n",
    "    conn.sendmail(gmail , email, f\"SUBJECT:OTP \\n\\n\\n\\nYOUR OTP IS: {o}\")\n",
    "    print('OTP send')\n",
    "    time.sleep(3)\n",
    "    accno = int(list(data.keys())[-1]) + 1\n",
    "    accno = str(accno)\n",
    "    print(accno)\n",
    "    ot = input('Enter varification code')\n",
    "    if ot == o:\n",
    "        data[accno]= {'name':name,'email':email,'password':passw}\n",
    "        print('Processing...')\n",
    "        time.sleep(1)\n",
    "        print('..')\n",
    "        time.sleep(1)\n",
    "        print('..')\n",
    "        time.sleep(1)\n",
    "        print('..')\n",
    "        time.sleep(1)\n",
    "        print(f'{name} account is successfuly created')\n",
    "        time.sleep(2)\n",
    "        login()\n",
    "    else:\n",
    "        print('Wrong OTP ...Try again')\n",
    "        signup()"
   ]
  },
  {
   "cell_type": "code",
   "execution_count": 14,
   "metadata": {},
   "outputs": [],
   "source": [
    "def credit(usr):\n",
    "    bal = int(input('Enter amount to credit'))\n",
    "    data[usr]['balance'] += bal\n",
    "    print(f'Your amount {bal} has been successfuly credited')\n",
    "    print(f\"Your current balance {data[usr]['balance']}\")"
   ]
  },
  {
   "cell_type": "code",
   "execution_count": 15,
   "metadata": {},
   "outputs": [],
   "source": [
    "def debit(usr):\n",
    "    bal = int(input('Enter amount to debit'))\n",
    "    if data[usr]['balance'] >= bal:\n",
    "        data[usr]['balance'] -= bal\n",
    "        print(f'Your amount {bal} has been successfuly debited')\n",
    "    else:\n",
    "        print('Not have sufficient amount in your account')\n",
    "    \n",
    "    print(f\"Your current balance {data[usr]['balance']}\")"
   ]
  },
  {
   "cell_type": "code",
   "execution_count": 16,
   "metadata": {},
   "outputs": [],
   "source": [
    "def chkbalance(usr):\n",
    "      print(f\"Your current balance is : {data[usr]['balance']}\")"
   ]
  },
  {
   "cell_type": "code",
   "execution_count": 20,
   "metadata": {},
   "outputs": [
    {
     "name": "stdout",
     "output_type": "stream",
     "text": [
      "*******************************************************************************************************************************\n",
      "\n",
      "                                                 Welcome to bank portal                                                 \n",
      "\n",
      "*******************************************************************************************************************************\n",
      "\n",
      "..\n",
      "..\n",
      "..\n",
      "1. Login\n",
      "2. Sign Up\n",
      "3. Exit\n",
      "\n",
      "Enter your choice1\n",
      "*******************************************************************************************************************************\n",
      "\n",
      "                                                Welcome to login section                                                \n",
      "\n",
      "*******************************************************************************************************************************\n",
      "\n",
      "Enter your username1004\n",
      "Loading...\n",
      "..\n",
      "..\n",
      "..\n",
      "Enter your password········\n",
      "Processing...\n",
      "..\n",
      "..\n",
      "..\n",
      "\n",
      "Loading...\n",
      "\n",
      "*******************************************************************************************************************************\n",
      "\n",
      "                                                    Login Successful                                                    \n",
      "\n",
      "*******************************************************************************************************************************\n",
      "\n",
      "1. Credit\n",
      "2.Debit\n",
      "3.Balance\n",
      "4.Log Out\n",
      "Enter Choice1\n",
      "Enter amount to credit5000\n",
      "Your amount 5000 has been successfuly credited\n",
      "Your current balance 74000\n"
     ]
    }
   ],
   "source": [
    "main()"
   ]
  },
  {
   "cell_type": "code",
   "execution_count": null,
   "metadata": {},
   "outputs": [],
   "source": []
  }
 ],
 "metadata": {
  "kernelspec": {
   "display_name": "Python 3",
   "language": "python",
   "name": "python3"
  },
  "language_info": {
   "codemirror_mode": {
    "name": "ipython",
    "version": 3
   },
   "file_extension": ".py",
   "mimetype": "text/x-python",
   "name": "python",
   "nbconvert_exporter": "python",
   "pygments_lexer": "ipython3",
   "version": "3.7.3"
  }
 },
 "nbformat": 4,
 "nbformat_minor": 2
}
